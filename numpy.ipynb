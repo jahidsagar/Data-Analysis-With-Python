{
 "cells": [
  {
   "cell_type": "code",
   "execution_count": 1,
   "id": "ac0bc678",
   "metadata": {},
   "outputs": [],
   "source": [
    "import numpy as np"
   ]
  },
  {
   "cell_type": "markdown",
   "id": "64b6dd12",
   "metadata": {},
   "source": [
    "Creating 1 dimensional array"
   ]
  },
  {
   "cell_type": "code",
   "execution_count": 2,
   "id": "46a65609",
   "metadata": {},
   "outputs": [],
   "source": [
    "arr1 = np.array([1, 2, 3, 4, 5])\n",
    "arr2 = np.array([6, 7, 8, 9, 10])"
   ]
  },
  {
   "cell_type": "markdown",
   "id": "982ea581",
   "metadata": {},
   "source": [
    "printing the arr1 and arr2"
   ]
  },
  {
   "cell_type": "code",
   "execution_count": 4,
   "id": "54dfd5ea",
   "metadata": {},
   "outputs": [
    {
     "name": "stdout",
     "output_type": "stream",
     "text": [
      "Array 1: [1 2 3 4 5]\n",
      "Array 2: [ 6  7  8  9 10]\n",
      "(5,)\n"
     ]
    }
   ],
   "source": [
    "print(\"Array 1:\", arr1)\n",
    "print(\"Array 2:\", arr2)\n",
    "print(arr1.shape)"
   ]
  },
  {
   "cell_type": "markdown",
   "id": "5e31fd7c",
   "metadata": {},
   "source": [
    "combining two array into arr3"
   ]
  },
  {
   "cell_type": "code",
   "execution_count": 5,
   "id": "20464b6b",
   "metadata": {},
   "outputs": [
    {
     "name": "stdout",
     "output_type": "stream",
     "text": [
      "Concatenated Array: [ 1  2  3  4  5  6  7  8  9 10]\n"
     ]
    }
   ],
   "source": [
    "arr3 = np.concatenate((arr1, arr2))\n",
    "print(\"Concatenated Array:\", arr3)"
   ]
  },
  {
   "cell_type": "markdown",
   "id": "890a3340",
   "metadata": {},
   "source": [
    "Array concatenation with\n",
    "1. horizontal stack\n",
    "2. vertical stack\n",
    "3. column stack\n",
    "4. axis = 1 , row\n",
    "5. axis = 0, col"
   ]
  },
  {
   "cell_type": "code",
   "execution_count": 15,
   "id": "eae29a20",
   "metadata": {},
   "outputs": [
    {
     "name": "stdout",
     "output_type": "stream",
     "text": [
      "Horizontally Stacked Array: [ 1  2  3  4  5  6  7  8  9 10]\n",
      "Vertically Stacked Array:\n",
      " [[ 1  2  3  4  5]\n",
      " [ 6  7  8  9 10]]\n",
      "Shape of Stacked Array: (2, 5)\n",
      "Column Stacked Array:\n",
      " [[ 1  6]\n",
      " [ 2  7]\n",
      " [ 3  8]\n",
      " [ 4  9]\n",
      " [ 5 10]]\n",
      "Stacked Array with axis=1:\n",
      " [[ 1  6]\n",
      " [ 2  7]\n",
      " [ 3  8]\n",
      " [ 4  9]\n",
      " [ 5 10]]\n",
      "Stacked Array with axis=0:\n",
      " [[ 1  2  3  4  5]\n",
      " [ 6  7  8  9 10]]\n"
     ]
    }
   ],
   "source": [
    "arr4 = np.hstack((arr1,arr2))\n",
    "print(\"Horizontally Stacked Array:\", arr4)\n",
    "arr5 = np.vstack((arr1, arr2))\n",
    "print(\"Vertically Stacked Array:\\n\", arr5)\n",
    "print(\"Shape of Stacked Array:\", arr5.shape)\n",
    "arr6 = np.column_stack((arr1, arr2))    \n",
    "print(\"Column Stacked Array:\\n\", arr6)\n",
    "arr7 = np.stack((arr1, arr2), axis=1)\n",
    "print(\"Stacked Array with axis=1:\\n\", arr7)\n",
    "arr8 = np.stack((arr1, arr2), axis=0)\n",
    "print(\"Stacked Array with axis=0:\\n\", arr8)"
   ]
  },
  {
   "cell_type": "markdown",
   "id": "e5fa1d79",
   "metadata": {},
   "source": [
    "Reshape the array, it is not a inplace operation"
   ]
  },
  {
   "cell_type": "code",
   "execution_count": 10,
   "id": "24f2310e",
   "metadata": {},
   "outputs": [
    {
     "name": "stdout",
     "output_type": "stream",
     "text": [
      "[[ 1  2]\n",
      " [ 3  4]\n",
      " [ 5  6]\n",
      " [ 7  8]\n",
      " [ 9 10]]\n",
      "arr3 [ 1  2  3  4  5  6  7  8  9 10]\n"
     ]
    }
   ],
   "source": [
    "print(arr3.reshape(5,2))\n",
    "print(\"arr3\",arr3)"
   ]
  },
  {
   "cell_type": "markdown",
   "id": "b3f3c7ec",
   "metadata": {},
   "source": [
    "Some built in array creating methods"
   ]
  },
  {
   "cell_type": "code",
   "execution_count": 20,
   "id": "38514c4d",
   "metadata": {},
   "outputs": [
    {
     "name": "stdout",
     "output_type": "stream",
     "text": [
      "Ones Array:\n",
      " [[1. 1.]\n",
      " [1. 1.]\n",
      " [1. 1.]]\n",
      "Zeros Array:\n",
      " [[0. 0.]\n",
      " [0. 0.]\n",
      " [0. 0.]]\n",
      "Identity Matrix:\n",
      " [[1. 0. 0.]\n",
      " [0. 1. 0.]\n",
      " [0. 0. 1.]]\n",
      "Diagonal Matrix:\n",
      " [[1 0 0]\n",
      " [0 2 0]\n",
      " [0 0 3]]\n"
     ]
    }
   ],
   "source": [
    "ones = np.ones((3, 2))\n",
    "print(\"Ones Array:\\n\", ones)\n",
    "\n",
    "zeros = np.zeros((3, 2))\n",
    "print(\"Zeros Array:\\n\", zeros)\n",
    "\n",
    "identity = np.eye(3)\n",
    "print(\"Identity Matrix:\\n\", identity)\n",
    "\n",
    "diagonal = np.diag([1, 2, 3])\n",
    "print(\"Diagonal Matrix:\\n\", diagonal)"
   ]
  },
  {
   "cell_type": "markdown",
   "id": "f9bf0d6e",
   "metadata": {},
   "source": [
    "generate array between a range with step, if step is not given then it takes 1 as default value. end value is exclusive."
   ]
  },
  {
   "cell_type": "code",
   "execution_count": 16,
   "id": "afd74f5c",
   "metadata": {},
   "outputs": [
    {
     "name": "stdout",
     "output_type": "stream",
     "text": [
      "Range Array: [10 12 14 16 18]\n"
     ]
    }
   ],
   "source": [
    "range_array = np.arange(10, 20, 2)\n",
    "print(\"Range Array:\", range_array)"
   ]
  },
  {
   "cell_type": "markdown",
   "id": "7fafd53a",
   "metadata": {},
   "source": [
    "generating array between a range but last argument is not step, is how much do you want. end value is inclusive"
   ]
  },
  {
   "cell_type": "code",
   "execution_count": 18,
   "id": "2cf4005a",
   "metadata": {},
   "outputs": [
    {
     "name": "stdout",
     "output_type": "stream",
     "text": [
      "Linspace Array: [0.   0.25 0.5  0.75 1.  ]\n"
     ]
    }
   ],
   "source": [
    "linspace_array = np.linspace(0, 1, 5)\n",
    "print(\"Linspace Array:\", linspace_array)"
   ]
  },
  {
   "cell_type": "markdown",
   "id": "82a47d26",
   "metadata": {},
   "source": [
    "Common attributes of an array"
   ]
  },
  {
   "cell_type": "code",
   "execution_count": 22,
   "id": "0bf05c62",
   "metadata": {},
   "outputs": [
    {
     "name": "stdout",
     "output_type": "stream",
     "text": [
      "Original Array:\n",
      " [[1 2 3]\n",
      " [4 5 6]\n",
      " [7 8 9]]\n",
      "Shape of Array: (3, 3)\n",
      "Data Type of Array: int64\n",
      "Array size: 9\n",
      "Array Dimension: 2\n",
      "Item size in bytes: 8\n"
     ]
    }
   ],
   "source": [
    "arr = np.array([[1, 2, 3], [4, 5, 6], [7, 8, 9]])\n",
    "print(\"Original Array:\\n\", arr)\n",
    "print(\"Shape of Array:\", arr.shape)\n",
    "print(\"Data Type of Array:\", arr.dtype)\n",
    "print(\"Array size:\", arr.size)\n",
    "print(\"Array Dimension:\", arr.ndim)\n",
    "print(\"Item size in bytes:\", arr.itemsize)"
   ]
  },
  {
   "cell_type": "code",
   "execution_count": 24,
   "id": "9ad2eab7",
   "metadata": {},
   "outputs": [
    {
     "name": "stdout",
     "output_type": "stream",
     "text": [
      "Minimum Value in Array: 1\n",
      "Maximum Value in Array: 9\n",
      "Array Transpose:\n",
      " [[1 4 7]\n",
      " [2 5 8]\n",
      " [3 6 9]]\n",
      "Flattened Array: [1 2 3 4 5 6 7 8 9]\n",
      "Max value in each column: [7 8 9]\n",
      "Max value in each row: [3 6 9]\n"
     ]
    }
   ],
   "source": [
    "print(\"Minimum Value in Array:\", arr.min())\n",
    "print(\"Maximum Value in Array:\", arr.max())\n",
    "print(\"Array Transpose:\\n\", arr.T)\n",
    "print(\"Flattened Array:\", arr.flatten())\n",
    "print(\"Max value in each column:\", arr.max(axis=0))\n",
    "print(\"Max value in each row:\", arr.max(axis=1))"
   ]
  },
  {
   "cell_type": "markdown",
   "id": "e6cb8dcd",
   "metadata": {},
   "source": [
    "Vector Operations"
   ]
  },
  {
   "cell_type": "code",
   "execution_count": 27,
   "id": "16a3467c",
   "metadata": {},
   "outputs": [
    {
     "name": "stdout",
     "output_type": "stream",
     "text": [
      "Array 1: [1 2 3 4 5]\n",
      "Array 2: [ 6  7  8  9 10]\n",
      "Element-wise Addition: [ 7  9 11 13 15]\n",
      "Element-wise Subtraction: [-5 -5 -5 -5 -5]\n",
      "Element-wise Multiplication: [ 6 14 24 36 50]\n",
      "Element-wise Division: [0.16666667 0.28571429 0.375      0.44444444 0.5       ]\n",
      "Element-wise Modulus: [1 2 3 4 5]\n"
     ]
    }
   ],
   "source": [
    "print(\"Array 1:\", arr1)\n",
    "print(\"Array 2:\", arr2)\n",
    "\n",
    "print(\"Element-wise Addition:\", arr1 + arr2)\n",
    "print(\"Element-wise Subtraction:\", arr1 - arr2)\n",
    "print(\"Element-wise Multiplication:\", arr1 * arr2)\n",
    "print(\"Element-wise Division:\", arr1 / arr2)\n",
    "print(\"Element-wise Modulus:\", arr1 % arr2)"
   ]
  },
  {
   "cell_type": "markdown",
   "id": "a7fb0c09",
   "metadata": {},
   "source": [
    "Common math\n",
    "1. square root\n",
    "2. exponent\n",
    "3. sin\n",
    "4. log\n",
    "Operations are not inplace. so if you need the change then use another variable."
   ]
  },
  {
   "cell_type": "code",
   "execution_count": 29,
   "id": "1e408f53",
   "metadata": {},
   "outputs": [
    {
     "name": "stdout",
     "output_type": "stream",
     "text": [
      "Array 1: [1 2 3 4 5]\n",
      "square root of Array 1: [1.         1.41421356 1.73205081 2.         2.23606798]\n",
      "Array 1: [1 2 3 4 5]\n",
      "Exponential of Array 1: [  2.71828183   7.3890561   20.08553692  54.59815003 148.4131591 ]\n",
      "sin of Array 1: [ 0.84147098  0.90929743  0.14112001 -0.7568025  -0.95892427]\n",
      "cos of Array 1: [ 0.54030231 -0.41614684 -0.9899925  -0.65364362  0.28366219]\n",
      "tan of Array 1: [ 1.55740772 -2.18503986 -0.14254654  1.15782128 -3.38051501]\n",
      "log of Array 1: [0.         0.69314718 1.09861229 1.38629436 1.60943791]\n",
      "log10 of Array 1: [0.         0.30103    0.47712125 0.60205999 0.69897   ]\n"
     ]
    }
   ],
   "source": [
    "print(\"Array 1:\", arr1)\n",
    "print(\"square root of Array 1:\", np.sqrt(arr1))\n",
    "print(\"Array 1:\", arr1)\n",
    "print(\"Exponential of Array 1:\", np.exp(arr1))\n",
    "print(\"sin of Array 1:\", np.sin(arr1))\n",
    "print(\"cos of Array 1:\", np.cos(arr1))\n",
    "print(\"tan of Array 1:\", np.tan(arr1))\n",
    "print(\"log of Array 1:\", np.log(arr1))\n",
    "print(\"log10 of Array 1:\", np.log10(arr1))"
   ]
  },
  {
   "cell_type": "markdown",
   "id": "7418054d",
   "metadata": {},
   "source": [
    "Array slicing is similar to python, for row and col you can use two brackets like, arr[row][col] or you can use single bracket with comma arr[row, col]"
   ]
  },
  {
   "cell_type": "code",
   "execution_count": 30,
   "id": "3093fb57",
   "metadata": {},
   "outputs": [
    {
     "name": "stdout",
     "output_type": "stream",
     "text": [
      "Two Dimensional Array:\n",
      " [[1 2 3]\n",
      " [4 5 6]]\n",
      "Shape of Two Dimensional Array: (2, 3)\n",
      "Data Type of Two Dimensional Array: int64\n",
      "6\n",
      "Row 1 of Two Dimensional Array: [4 5 6]\n",
      "Column 2 of Two Dimensional Array: [2 5]\n"
     ]
    }
   ],
   "source": [
    "tow_dimensional_array = np.array([[1, 2, 3], [4, 5, 6]])\n",
    "print(\"Two Dimensional Array:\\n\", tow_dimensional_array)\n",
    "print(\"Shape of Two Dimensional Array:\", tow_dimensional_array.shape)\n",
    "print(\"Data Type of Two Dimensional Array:\", tow_dimensional_array.dtype)\n",
    "print(arr[1, 2])  # Accessing element at row 1, column 2\n",
    "print(\"Row 1 of Two Dimensional Array:\", tow_dimensional_array[1])  # Accessing row 1\n",
    "print(\"Column 2 of Two Dimensional Array:\", tow_dimensional_array[:, 1])  # Accessing column 2"
   ]
  },
  {
   "cell_type": "markdown",
   "id": "3753fe2f",
   "metadata": {},
   "source": [
    "Statistical operations\n",
    "1. mean\n",
    "2. median\n",
    "3. mode\n",
    "4. standard deviation\n",
    "5. variance"
   ]
  },
  {
   "cell_type": "code",
   "execution_count": 34,
   "id": "52ebd3ac",
   "metadata": {},
   "outputs": [
    {
     "name": "stdout",
     "output_type": "stream",
     "text": [
      "Mean of Array 1: 3.0\n",
      "Standard Deviation of Array 1: 1.4142135623730951\n",
      "Variance of Array 1: 2.0\n",
      "Median of Array 1: 3.0\n",
      "Modde of Array 1: 4\n",
      "Normalized Array 1: [-1.41421356 -0.70710678  0.          0.70710678  1.41421356]\n"
     ]
    }
   ],
   "source": [
    "print(\"Mean of Array 1:\", np.mean(arr1))\n",
    "print(\"Standard Deviation of Array 1:\", np.std(arr1))\n",
    "print(\"Variance of Array 1:\", np.var(arr1))\n",
    "print(\"Median of Array 1:\", np.median(arr1))\n",
    "print(\"Modde of Array 1:\", np.argmax(arr1))  # Index of the maximum value\n",
    "normalizedd_arr1 = (arr1 - np.mean(arr1)) / np.std(arr1)\n",
    "print(\"Normalized Array 1:\", normalizedd_arr1)"
   ]
  },
  {
   "cell_type": "markdown",
   "id": "0abf57e2",
   "metadata": {},
   "source": [
    "Logical operations.\n",
    "\n",
    "like other programming languages, dont use && ,instead use & for logical and "
   ]
  },
  {
   "cell_type": "code",
   "execution_count": 38,
   "id": "a3797a47",
   "metadata": {},
   "outputs": [
    {
     "name": "stdout",
     "output_type": "stream",
     "text": [
      "Array 1: [1 2 3 4 5]\n",
      "greater than 3 in Array 1: [4 5]\n",
      "less than 3 in Array 1: [1 2]\n",
      "greater then 2 and less than 5 in Array 1: [3 4]\n"
     ]
    }
   ],
   "source": [
    "print(\"Array 1:\", arr1)\n",
    "print(\"greater than 3 in Array 1:\", arr1[arr1 > 3])\n",
    "print(\"less than 3 in Array 1:\", arr1[arr1 < 3])\n",
    "print(\"greater then 2 and less than 5 in Array 1:\", arr1[(arr1 > 2) & (arr1 < 5)])"
   ]
  }
 ],
 "metadata": {
  "kernelspec": {
   "display_name": "cudaEnv",
   "language": "python",
   "name": "python3"
  },
  "language_info": {
   "codemirror_mode": {
    "name": "ipython",
    "version": 3
   },
   "file_extension": ".py",
   "mimetype": "text/x-python",
   "name": "python",
   "nbconvert_exporter": "python",
   "pygments_lexer": "ipython3",
   "version": "3.11.11"
  }
 },
 "nbformat": 4,
 "nbformat_minor": 5
}
